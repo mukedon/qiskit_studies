{
 "cells": [
  {
   "cell_type": "markdown",
   "id": "3aacf2df",
   "metadata": {},
   "source": [
    "## Pauli-Power Gates\n",
    "The **Pauli-power gates** ($X^t$, $Y^t$, $Z^t$) are introduced to circumvent the ambiguity that arises when defining non-integer powers of matrices. They are defined not by directly taking the $t$-th power of a Pauli matrix, but through a relationship with the Pauli-rotation gates ($R_x$, $R_y$, $R_z$).\n",
    "\n",
    "This representation is computationally advantageous because the desired rotation angles in quantum computing are often simple binary fractions ($\\pm \\pi/2^n$), which have exact floating-point representations, avoiding numerical round-off errors associated with $\\pi$.\n",
    "\n",
    "### Defining Relationship\n",
    "A Pauli-power gate is equivalent to a Pauli-rotation gate up to a global phase factor, $e^{i\\frac{\\pi}{2}t}$:\n",
    "$$\n",
    "    X^t = e^{-i \\frac{\\pi}{2} t (X-I)} = e^{i \\frac{\\pi}{2} t} R_x(\\pi t)\n",
    "$$\n",
    "$$\n",
    "    Y^t = e^{-i \\frac{\\pi}{2} t (Y-I)} = e^{i \\frac{\\pi}{2} t} R_y(\\pi t)\n",
    "$$\n",
    "$$\n",
    "    Z^t = e^{-i \\frac{\\pi}{2} t (Z-I)} = e^{i \\frac{\\pi}{2} t} R_z(\\pi t)\n",
    "$$\n",
    "### Explicit $Z^t$ Matrix Form\n",
    "The $Z^t$ gate, after simplification, has the following explicit matrix form, which is the simplest to implement and demonstrates its effect as a phase shift:\n",
    "\n",
    "$$\n",
    "Z^t = \\begin{bmatrix}\n",
    "    1 & 0 \\\\\n",
    "    0 & e^{i\\pi t}\n",
    "\\end{bmatrix}\n",
    "$$"
   ]
  },
  {
   "cell_type": "markdown",
   "id": "250241b0",
   "metadata": {},
   "source": [
    "### Implementation and $T$ Gate Example\n",
    "This code defines and demonstrates the $Z^t$ gate, specifically showing that setting $t=1/4$ gives the $T$ gate, a quarter-power of $Z$."
   ]
  },
  {
   "cell_type": "code",
   "execution_count": 1,
   "id": "53ac0769",
   "metadata": {},
   "outputs": [
    {
     "name": "stdout",
     "output_type": "stream",
     "text": [
      "--- Z^t Gate for t = 1.0 (Standard Z Gate) ---\n",
      "Z^1 matrix:\n"
     ]
    },
    {
     "data": {
      "text/plain": [
       "array([[ 1.+0.j,  0.+0.j],\n",
       "       [ 0.+0.j, -1.+0.j]])"
      ]
     },
     "metadata": {},
     "output_type": "display_data"
    },
    {
     "name": "stdout",
     "output_type": "stream",
     "text": [
      "\n",
      "--- Z^t Gate for t = 0.25 (The T Gate) ---\n",
      "T gate (Z^0.25) matrix:\n"
     ]
    },
    {
     "data": {
      "text/plain": [
       "array([[1.     +0.j     , 0.     +0.j     ],\n",
       "       [0.     +0.j     , 0.70711+0.70711j]])"
      ]
     },
     "metadata": {},
     "output_type": "display_data"
    },
    {
     "name": "stdout",
     "output_type": "stream",
     "text": [
      "\n",
      "Matrices match expected T gate: True\n"
     ]
    }
   ],
   "source": [
    "import numpy as np\n",
    "from IPython.display import display, Math\n",
    "\n",
    "# 1. Define the Z power gate function\n",
    "def Z_power_gate(t):\n",
    "    \"\"\"\n",
    "    Calculates the Z^t Pauli-power gate matrix.\n",
    "    \n",
    "    Z^t = [[1, 0], [0, exp(i * pi * t)]]\n",
    "    \"\"\"\n",
    "    # np.exp(1j * np.pi * t) calculates e^(i * pi * t)\n",
    "    matrix = np.array([\n",
    "        [1, 0],\n",
    "        [0, np.exp(1j * np.pi * t)]\n",
    "    ], dtype=complex)\n",
    "    return matrix\n",
    "\n",
    "# 2. Example 1: The standard Z gate (t=1)\n",
    "t_z = 1.0\n",
    "Z_gate = Z_power_gate(t_z)\n",
    "\n",
    "print(f\"--- Z^t Gate for t = {t_z} (Standard Z Gate) ---\")\n",
    "print(\"Z^1 matrix:\")\n",
    "display(Z_gate.round(5))\n",
    "\n",
    "\n",
    "# 3. Example 2: The T gate (t=1/4 or t=0.25)\n",
    "# The T gate is defined as Z^(1/4) in the fractional phase shift section.\n",
    "t_t = 1/4 # or 0.25\n",
    "T_gate = Z_power_gate(t_t)\n",
    "\n",
    "# Expected T gate matrix: [[1, 0], [0, e^(i*pi/4)]]\n",
    "# e^(i*pi/4) = cos(pi/4) + i*sin(pi/4) = (1/sqrt(2)) + i*(1/sqrt(2))\n",
    "expected_T_phase = 1/np.sqrt(2) + 1j/np.sqrt(2)\n",
    "expected_T = np.array([\n",
    "    [1, 0],\n",
    "    [0, expected_T_phase]\n",
    "], dtype=complex)\n",
    "\n",
    "\n",
    "print(f\"\\n--- Z^t Gate for t = {t_t} (The T Gate) ---\")\n",
    "print(\"T gate (Z^0.25) matrix:\")\n",
    "# Using np.around to clean up small floating-point artifacts\n",
    "display(T_gate.round(5))\n",
    "\n",
    "# Verification\n",
    "is_close = np.allclose(T_gate, expected_T)\n",
    "print(f\"\\nMatrices match expected T gate: {is_close}\")"
   ]
  },
  {
   "cell_type": "markdown",
   "id": "a61b3a5e",
   "metadata": {},
   "source": [
    "### Interpretation\n",
    "\n",
    "* When $t=1$, the gate is the standard Pauli $Z$ matrix: $\\begin{bmatrix} 1 & 0 \\\\ 0 & e^{i\\pi} \\end{bmatrix} = \\begin{bmatrix} 1 & 0 \\\\ 0 & -1 \\end{bmatrix}$.\n",
    "* When $t=1/4$, the gate is the $T$ gate (or $\\pi/4$ phase shift gate). It applies an eighth-turn phase ($e^{i\\pi/4}$) to the $|1\\rangle$ state. This illustrates the key advantage: a fractional power $t$ directly translates to a partial rotation/phase shift, which is clear and numerically stable."
   ]
  },
  {
   "cell_type": "markdown",
   "id": "3bda4795",
   "metadata": {},
   "source": [
    "## Intuitive Idea and Use Case: The Power of Fractionation\n",
    "\n",
    "### Intuitive Idea: Fractional Rotations\n",
    "\n",
    "At the core, the Pauli-power gates ($X^t$, $Y^t$, $Z^t$) are just **renamed Pauli rotation gates** ($R_x(\\theta)$, $R_y(\\theta)$, $R_z(\\theta)$) where the angle $\\theta$ is made directly proportional to the power $t$:\n",
    "\n",
    "$$\n",
    "\\theta = \\pi \\cdot t\n",
    "$$\n",
    "\n",
    "| Rotation Gate | Pauli-Power Gate | Angle ($\\theta$) | Interpretation\n",
    "| :---: | :---: | :---: | :---:\n",
    "| $R_Z(\\pi)$ | $Z^1$ | $\\pi$ radians ($180^\\circ$) | Full $Z$ flip\n",
    "| $R_Z(\\pi/2)$ | $Z^{1/2}$ | $\\pi/2$ radians ($90^\\circ$) | Square root of $Z$ (the $S$ gate)\n",
    "| $R_Z(\\pi/4)$ | $Z^{1/4}$ | $\\pi/4$ radians ($45^\\circ$) | Quarter power of $Z$ (the $T$ gate)\n",
    "\n",
    "The term \"**power gate**\" intuitively suggests the idea of taking a fractional power of the original Pauli operator. For instance, the **$Z^{1/2}$ gate** is the square root of the $Z$ gate. If you apply $Z^{1/2}$ twice, you recover the original $Z$ gate.\n",
    "\n",
    "### 4.2 Use Case: Universal Quantum Computation\n",
    "\n",
    "The most important use case for Pauli-power gates lies in their relationship with the **$T$ gate**, which is defined as $Z^{1/4}$. In quantum computing, any complex quantum algorithm can be broken down into a sequence of gates from a **Universal Gate Set**. A common universal set includes:\n",
    "\n",
    "1.  **Clifford Gates:** Hadamard ($H$), Phase ($S=Z^{1/2}$), and Controlled-NOT (CNOT).\n",
    "2.  **A Non-Clifford Gate:** The $T$ gate ($Z^{1/4}$).\n",
    "\n",
    "* The Clifford gates can generate rotations by multiples of $\\pi/2$.\n",
    "* The $T$ gate, by providing a rotation by $\\pi/4$, allows for rotations by finer, more precise angles. **It is the key gate that enables arbitrary, high-precision rotations.**\n",
    "\n",
    "Since the $T$ gate is directly defined as a simple Pauli-power gate, this formulation provides a clean, standardized, and hardware-friendly way to implement the gates needed to achieve **Universal Quantum Computation**."
   ]
  }
 ],
 "metadata": {
  "kernelspec": {
   "display_name": ".venv",
   "language": "python",
   "name": "python3"
  },
  "language_info": {
   "codemirror_mode": {
    "name": "ipython",
    "version": 3
   },
   "file_extension": ".py",
   "mimetype": "text/x-python",
   "name": "python",
   "nbconvert_exporter": "python",
   "pygments_lexer": "ipython3",
   "version": "3.13.7"
  }
 },
 "nbformat": 4,
 "nbformat_minor": 5
}
